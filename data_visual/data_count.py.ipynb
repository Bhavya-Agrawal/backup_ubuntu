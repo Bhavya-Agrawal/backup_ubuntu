{
 "cells": [
  {
   "cell_type": "code",
   "execution_count": null,
   "metadata": {},
   "outputs": [],
   "source": [
    "import matplotlib.pyplot as plt\n",
    "\n",
    "import numpy as np\n",
    "import socket\n",
    "import time\n",
    "\n",
    "#    code for sender\n",
    "r=socket.socket(socket.AF_INET,socket.SOCK_DGRAM)\n",
    "r.sendto(\"hiiii\",(\"127.0.0.1\",9999))\n",
    "\n",
    "#code for reciever\n",
    "rec_ip=\"127.0.0.1\"\n",
    "myport=9999\n",
    "#                 ipv4       ,  for UDP   \n",
    "#   only  for rec                      \n",
    "#  below method with argument creating a socket called  s \n",
    "s=socket.socket(socket.AF_INET,socket.SOCK_DGRAM)\n",
    "#  now connecting ip  and port \n",
    "s.bind((rec_ip,myport)) \n",
    "#  buffer size \n",
    "while 4 >  2 :\n",
    "    print(s.recvfrom(1000))\n",
    "\n",
    "\n",
    "\n"
   ]
  },
  {
   "cell_type": "code",
   "execution_count": null,
   "metadata": {},
   "outputs": [],
   "source": []
  },
  {
   "cell_type": "code",
   "execution_count": null,
   "metadata": {},
   "outputs": [],
   "source": []
  }
 ],
 "metadata": {
  "kernelspec": {
   "display_name": "Python 3",
   "language": "python",
   "name": "python3"
  },
  "language_info": {
   "codemirror_mode": {
    "name": "ipython",
    "version": 3
   },
   "file_extension": ".py",
   "mimetype": "text/x-python",
   "name": "python",
   "nbconvert_exporter": "python",
   "pygments_lexer": "ipython3",
   "version": "3.5.2"
  }
 },
 "nbformat": 4,
 "nbformat_minor": 2
}
