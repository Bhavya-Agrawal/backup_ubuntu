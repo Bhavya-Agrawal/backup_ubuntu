{
 "cells": [
  {
   "cell_type": "code",
   "execution_count": 25,
   "metadata": {},
   "outputs": [],
   "source": [
    "from sklearn.datasets import load_iris\n",
    "from sklearn import tree\n",
    "#from sklearn.cross_validation import train_test_split"
   ]
  },
  {
   "cell_type": "code",
   "execution_count": 26,
   "metadata": {},
   "outputs": [],
   "source": [
    "from sklearn.model_selection import train_test_split\n",
    "from sklearn.metrics import accuracy_score"
   ]
  },
  {
   "cell_type": "code",
   "execution_count": 48,
   "metadata": {},
   "outputs": [],
   "source": [
    "#test_size indicates the size of data we want to give for training the machine \n",
    "iris = load_iris()\n",
    "train_data,test_data,train_target,test_target=train_test_split(iris.data,iris.target,test_size=0.8)"
   ]
  },
  {
   "cell_type": "code",
   "execution_count": 49,
   "metadata": {},
   "outputs": [
    {
     "name": "stdout",
     "output_type": "stream",
     "text": [
      "[1 2 0 1 1 1 2 0 2 2 0 2 0 0 0 0 1 1 1 2 1 1 1 2 2 2 0 2 1 0 1 1 1 0 2 2 1\n",
      " 2 2 2 2 1 2 0 0 1 2 2 2 0 1 0 1 0 0 2 2 0 2 0 0 2 1 2 2 2 0 2 1 1 2 1 1 0\n",
      " 1 2 0 2 1 0 1 2 0 2 2 2 1 2 1 1 0 0 1 0 2 2 0 0 0 1 1 1 1 0 2 2 0 0 2 1 1\n",
      " 2 0 2 0 0 0 1 2 1]\n"
     ]
    }
   ],
   "source": [
    "#known or expected output\n",
    "\n",
    "print(test_target)"
   ]
  },
  {
   "cell_type": "code",
   "execution_count": 50,
   "metadata": {},
   "outputs": [],
   "source": [
    "clf = tree.DecisionTreeClassifier()\n",
    "# input is in train_data and output is as per train_target\n",
    "trained = clf.fit(train_data,train_target)"
   ]
  },
  {
   "cell_type": "code",
   "execution_count": 51,
   "metadata": {},
   "outputs": [],
   "source": [
    "#we need to predict output as per test_data so give it in predict function\n",
    "predicted = trained.predict(test_data)\n"
   ]
  },
  {
   "cell_type": "code",
   "execution_count": 52,
   "metadata": {},
   "outputs": [
    {
     "name": "stdout",
     "output_type": "stream",
     "text": [
      "[1 2 0 1 1 1 1 0 1 1 0 2 0 0 0 0 1 1 1 1 1 1 1 2 2 2 0 2 1 0 1 1 1 0 1 2 1\n",
      " 2 2 2 1 1 2 0 0 1 1 1 2 0 1 0 1 0 0 1 1 0 2 0 0 1 1 2 1 2 0 2 1 1 2 1 1 0\n",
      " 1 2 0 2 1 0 1 2 0 2 2 1 1 2 1 1 0 0 1 0 2 2 0 0 0 1 1 1 1 0 1 1 0 0 2 1 1\n",
      " 1 0 2 0 0 0 1 2 1]\n"
     ]
    }
   ],
   "source": [
    "#predicted output\n",
    "print(predicted)"
   ]
  },
  {
   "cell_type": "code",
   "execution_count": 53,
   "metadata": {},
   "outputs": [],
   "source": [
    "# print percentage of accuracy\n",
    "pct = accuracy_score(test_target,predicted)"
   ]
  },
  {
   "cell_type": "code",
   "execution_count": 54,
   "metadata": {},
   "outputs": [
    {
     "name": "stdout",
     "output_type": "stream",
     "text": [
      "0.8666666666666667\n"
     ]
    }
   ],
   "source": [
    "print(pct)"
   ]
  },
  {
   "cell_type": "code",
   "execution_count": null,
   "metadata": {},
   "outputs": [],
   "source": []
  },
  {
   "cell_type": "code",
   "execution_count": null,
   "metadata": {},
   "outputs": [],
   "source": []
  }
 ],
 "metadata": {
  "kernelspec": {
   "display_name": "Python 3",
   "language": "python",
   "name": "python3"
  },
  "language_info": {
   "codemirror_mode": {
    "name": "ipython",
    "version": 3
   },
   "file_extension": ".py",
   "mimetype": "text/x-python",
   "name": "python",
   "nbconvert_exporter": "python",
   "pygments_lexer": "ipython3",
   "version": "3.5.2"
  }
 },
 "nbformat": 4,
 "nbformat_minor": 2
}
