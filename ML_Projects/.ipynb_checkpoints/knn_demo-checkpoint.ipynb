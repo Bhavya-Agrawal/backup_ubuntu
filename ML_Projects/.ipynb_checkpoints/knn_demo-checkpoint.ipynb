{
 "cells": [
  {
   "cell_type": "code",
   "execution_count": 78,
   "metadata": {},
   "outputs": [],
   "source": [
    "import matplotlib.pyplot as plt\n",
    "import numpy as np"
   ]
  },
  {
   "cell_type": "code",
   "execution_count": 79,
   "metadata": {},
   "outputs": [
    {
     "data": {
      "image/png": "[encoded data removed]",
      "text/plain": [
       "<Figure size 432x288 with 1 Axes>"
      ]
     },
     "metadata": {},
     "output_type": "display_data"
    }
   ],
   "source": [
    "x=[1,2,3,4]\n",
    "y=[5,6,7,8]\n",
    "x1=[2,3,4,5]\n",
    "y1=[1,4,5,3]\n",
    "plt.scatter(x,y,color='r',marker='*')\n",
    "plt.scatter(x1,y1,color='g',marker='*')\n",
    "point = [2,4]\n",
    "plt.scatter(point[0],point[1],color='y',marker='*',s=100)\n",
    "plt.show()"
   ]
  },
  {
   "cell_type": "code",
   "execution_count": 80,
   "metadata": {},
   "outputs": [],
   "source": [
    "from math import sqrt\n",
    "distance_list_x = []\n",
    "distance_list_x1 = []\n",
    "distance_list = []"
   ]
  },
  {
   "cell_type": "code",
   "execution_count": 81,
   "metadata": {},
   "outputs": [],
   "source": [
    "for i in range(0,len(x)):\n",
    "    d=sqrt(((point[0]-x[i])**2)+((point[1]-y[i])**2))\n",
    "    distance_list_x.append(d)\n",
    "    distance_list.append(d)\n",
    "   # print(len(x))\n",
    "    "
   ]
  },
  {
   "cell_type": "code",
   "execution_count": 82,
   "metadata": {},
   "outputs": [
    {
     "name": "stdout",
     "output_type": "stream",
     "text": [
      "[1.4142135623730951, 2.0, 3.1622776601683795, 4.47213595499958]\n",
      "4\n"
     ]
    }
   ],
   "source": [
    "print(distance_list_x)\n",
    "print(len(distance_list_x))"
   ]
  },
  {
   "cell_type": "code",
   "execution_count": 83,
   "metadata": {},
   "outputs": [],
   "source": [
    "d_min = min(distance_list_x)"
   ]
  },
  {
   "cell_type": "code",
   "execution_count": 84,
   "metadata": {},
   "outputs": [
    {
     "name": "stdout",
     "output_type": "stream",
     "text": [
      "1.4142135623730951\n"
     ]
    }
   ],
   "source": [
    "print(d_min)"
   ]
  },
  {
   "cell_type": "code",
   "execution_count": 85,
   "metadata": {},
   "outputs": [],
   "source": [
    "for i in range(0,len(x1)):\n",
    "    d=sqrt((point[0]-x1[i])**2+(point[1]-y1[i])**2)\n",
    "    distance_list_x1.append(d)\n",
    "    distance_list.append(d)"
   ]
  },
  {
   "cell_type": "code",
   "execution_count": 86,
   "metadata": {},
   "outputs": [
    {
     "name": "stdout",
     "output_type": "stream",
     "text": [
      "[1.4142135623730951, 2.0, 3.1622776601683795, 4.47213595499958, 3.0, 1.0, 2.23606797749979, 3.1622776601683795]\n"
     ]
    }
   ],
   "source": [
    "d_min = min(distance_list_x1)\n",
    "#print(d_min)\n",
    "k=3\n",
    "min_list=[]\n",
    "#distance_list.append(distance_list_x)\n",
    "#distance_list.append(distance_list_x1)\n",
    "print(distance_list)"
   ]
  },
  {
   "cell_type": "code",
   "execution_count": 87,
   "metadata": {},
   "outputs": [
    {
     "name": "stdout",
     "output_type": "stream",
     "text": [
      "1.0\n",
      "1.4142135623730951\n",
      "2.0\n"
     ]
    }
   ],
   "source": [
    "for i in range(0,3):\n",
    "    d_min=min(distance_list)\n",
    "    print(d_min)\n",
    "    min_list.append(d_min)\n",
    "    distance_list.remove(d_min)"
   ]
  },
  {
   "cell_type": "code",
   "execution_count": 88,
   "metadata": {},
   "outputs": [
    {
     "name": "stdout",
     "output_type": "stream",
     "text": [
      "[1.0, 1.4142135623730951, 2.0]\n"
     ]
    }
   ],
   "source": [
    "print(min_list)"
   ]
  },
  {
   "cell_type": "code",
   "execution_count": 89,
   "metadata": {},
   "outputs": [],
   "source": [
    "count_x=0\n",
    "count_x1=0\n",
    "for i in min_list:\n",
    "    if i in distance_list_x:\n",
    "        count_x+=1\n",
    "    elif i in distance_list_x1:\n",
    "        count_x1+=1        \n",
    "        "
   ]
  },
  {
   "cell_type": "code",
   "execution_count": 91,
   "metadata": {},
   "outputs": [
    {
     "name": "stdout",
     "output_type": "stream",
     "text": [
      "predicted output is set 1\n"
     ]
    }
   ],
   "source": [
    "#count_x and count_x1 are actually counting no of variables of a set in a circle formed\n",
    "\n",
    "if count_x>count_x1:\n",
    "    print(\"predicted output is set 1\")\n",
    "else:\n",
    "    print(\"predicted output is set 2\")"
   ]
  },
  {
   "cell_type": "code",
   "execution_count": null,
   "metadata": {},
   "outputs": [],
   "source": []
  },
  {
   "cell_type": "code",
   "execution_count": null,
   "metadata": {},
   "outputs": [],
   "source": [
    " "
   ]
  }
 ],
 "metadata": {
  "kernelspec": {
   "display_name": "Python 3",
   "language": "python",
   "name": "python3"
  },
  "language_info": {
   "codemirror_mode": {
    "name": "ipython",
    "version": 3
   },
   "file_extension": ".py",
   "mimetype": "text/x-python",
   "name": "python",
   "nbconvert_exporter": "python",
   "pygments_lexer": "ipython3",
   "version": "3.5.2"
  }
 },
 "nbformat": 4,
 "nbformat_minor": 2
}
